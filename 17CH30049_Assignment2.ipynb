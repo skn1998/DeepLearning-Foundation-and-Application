{
  "nbformat": 4,
  "nbformat_minor": 0,
  "metadata": {
    "colab": {
      "name": "17CH30049_Assignment2.ipynb",
      "provenance": []
    },
    "kernelspec": {
      "name": "python3",
      "display_name": "Python 3"
    },
    "language_info": {
      "name": "python"
    },
    "accelerator": "GPU"
  },
  "cells": [
    {
      "cell_type": "markdown",
      "metadata": {
        "id": "2v5XXNCXbWJM"
      },
      "source": [
        "**Imports**"
      ]
    },
    {
      "cell_type": "markdown",
      "metadata": {
        "id": "-KkoVRVi4i0u"
      },
      "source": [
        "**Training is taking too much time so I have submitted the colab file without training**"
      ]
    },
    {
      "cell_type": "code",
      "metadata": {
        "colab": {
          "base_uri": "https://localhost:8080/"
        },
        "id": "kz1cUpaJ_Kth",
        "outputId": "38dd7dda-0cb4-4c02-bb0c-71404879a835"
      },
      "source": [
        "from google.colab import drive\n",
        "drive.mount('/content/drive')"
      ],
      "execution_count": 96,
      "outputs": [
        {
          "output_type": "stream",
          "text": [
            "Drive already mounted at /content/drive; to attempt to forcibly remount, call drive.mount(\"/content/drive\", force_remount=True).\n"
          ],
          "name": "stdout"
        }
      ]
    },
    {
      "cell_type": "code",
      "metadata": {
        "id": "hj-6c_2Aa-Zx"
      },
      "source": [
        "import numpy as np\n",
        "import pandas as pd\n",
        "import matplotlib.pyplot as plt\n",
        "import nltk\n",
        "import re\n",
        "\n",
        "import torch\n",
        "import torch.nn as nn\n",
        "import torch.nn.functional as F\n",
        "import torch.optim as optim\n",
        "from torchtext.legacy import data\n",
        "SEED = 2021\n",
        "torch.manual_seed(SEED)\n",
        "torch.cuda.manual_seed(SEED)\n",
        "torch.backends.cudnn.deterministic = True"
      ],
      "execution_count": 97,
      "outputs": []
    },
    {
      "cell_type": "markdown",
      "metadata": {
        "id": "7kMg1dW-F1Vx"
      },
      "source": [
        "**Loading the Dataset**"
      ]
    },
    {
      "cell_type": "code",
      "metadata": {
        "id": "ULL84WyfeCcE"
      },
      "source": [
        "dataset = pd.read_csv(\"/content/drive/MyDrive/Colab Notebooks/DLFA/IMDB Dataset.csv\")"
      ],
      "execution_count": 98,
      "outputs": []
    },
    {
      "cell_type": "code",
      "metadata": {
        "id": "T85JG7SqgLFM",
        "colab": {
          "base_uri": "https://localhost:8080/",
          "height": 196
        },
        "outputId": "55422295-8d9b-47ad-ff0f-9decfbffd814"
      },
      "source": [
        "dataset.head()"
      ],
      "execution_count": 99,
      "outputs": [
        {
          "output_type": "execute_result",
          "data": {
            "text/html": [
              "<div>\n",
              "<style scoped>\n",
              "    .dataframe tbody tr th:only-of-type {\n",
              "        vertical-align: middle;\n",
              "    }\n",
              "\n",
              "    .dataframe tbody tr th {\n",
              "        vertical-align: top;\n",
              "    }\n",
              "\n",
              "    .dataframe thead th {\n",
              "        text-align: right;\n",
              "    }\n",
              "</style>\n",
              "<table border=\"1\" class=\"dataframe\">\n",
              "  <thead>\n",
              "    <tr style=\"text-align: right;\">\n",
              "      <th></th>\n",
              "      <th>review</th>\n",
              "      <th>sentiment</th>\n",
              "    </tr>\n",
              "  </thead>\n",
              "  <tbody>\n",
              "    <tr>\n",
              "      <th>0</th>\n",
              "      <td>One of the other reviewers has mentioned that ...</td>\n",
              "      <td>positive</td>\n",
              "    </tr>\n",
              "    <tr>\n",
              "      <th>1</th>\n",
              "      <td>A wonderful little production. &lt;br /&gt;&lt;br /&gt;The...</td>\n",
              "      <td>positive</td>\n",
              "    </tr>\n",
              "    <tr>\n",
              "      <th>2</th>\n",
              "      <td>I thought this was a wonderful way to spend ti...</td>\n",
              "      <td>positive</td>\n",
              "    </tr>\n",
              "    <tr>\n",
              "      <th>3</th>\n",
              "      <td>Basically there's a family where a little boy ...</td>\n",
              "      <td>negative</td>\n",
              "    </tr>\n",
              "    <tr>\n",
              "      <th>4</th>\n",
              "      <td>Petter Mattei's \"Love in the Time of Money\" is...</td>\n",
              "      <td>positive</td>\n",
              "    </tr>\n",
              "  </tbody>\n",
              "</table>\n",
              "</div>"
            ],
            "text/plain": [
              "                                              review sentiment\n",
              "0  One of the other reviewers has mentioned that ...  positive\n",
              "1  A wonderful little production. <br /><br />The...  positive\n",
              "2  I thought this was a wonderful way to spend ti...  positive\n",
              "3  Basically there's a family where a little boy ...  negative\n",
              "4  Petter Mattei's \"Love in the Time of Money\" is...  positive"
            ]
          },
          "metadata": {
            "tags": []
          },
          "execution_count": 99
        }
      ]
    },
    {
      "cell_type": "markdown",
      "metadata": {
        "id": "Ie_59hTACBrH"
      },
      "source": [
        "**Data Visualization**"
      ]
    },
    {
      "cell_type": "code",
      "metadata": {
        "id": "oKHt6LR6gSlc",
        "colab": {
          "base_uri": "https://localhost:8080/"
        },
        "outputId": "f44c9751-1df9-4145-d91e-1c3247a337fc"
      },
      "source": [
        "dataset.isnull().sum() # checking for missing data"
      ],
      "execution_count": 100,
      "outputs": [
        {
          "output_type": "execute_result",
          "data": {
            "text/plain": [
              "review       0\n",
              "sentiment    0\n",
              "dtype: int64"
            ]
          },
          "metadata": {
            "tags": []
          },
          "execution_count": 100
        }
      ]
    },
    {
      "cell_type": "code",
      "metadata": {
        "id": "Bwihu5HP_e31",
        "colab": {
          "base_uri": "https://localhost:8080/"
        },
        "outputId": "367b7312-2d78-4623-9fad-5f57f2373f62"
      },
      "source": [
        "dataset.groupby(\"sentiment\").sentiment.count() # checking number of positive and negative samples"
      ],
      "execution_count": 101,
      "outputs": [
        {
          "output_type": "execute_result",
          "data": {
            "text/plain": [
              "sentiment\n",
              "negative    25000\n",
              "positive    25000\n",
              "Name: sentiment, dtype: int64"
            ]
          },
          "metadata": {
            "tags": []
          },
          "execution_count": 101
        }
      ]
    },
    {
      "cell_type": "markdown",
      "metadata": {
        "id": "IWzGyJkIG3aH"
      },
      "source": [
        "**Data Preprocessing**"
      ]
    },
    {
      "cell_type": "code",
      "metadata": {
        "id": "A77SSSHxDl0Y"
      },
      "source": [
        "def remove_URL(text):  #removing URL\n",
        "    url = re.compile(r\"https?://\\S+|www\\.\\S+\")\n",
        "    return url.sub(r\"\", text)\n",
        "\n",
        "\n",
        "def remove_html(text):    #removing HTML\n",
        "    html = re.compile(r\"<.*?>\")\n",
        "    return html.sub(r\"\", text)\n",
        "\n",
        "def remove_emoji(string):\n",
        "    emoji_pattern = re.compile(\n",
        "        \"[\"\n",
        "        u\"\\U0001F600-\\U0001F64F\"  # emoticons\n",
        "        u\"\\U0001F300-\\U0001F5FF\"  # symbols & pictographs\n",
        "        u\"\\U0001F680-\\U0001F6FF\"  # transport & map symbols\n",
        "        u\"\\U0001F1E0-\\U0001F1FF\"  # flags (iOS)\n",
        "        u\"\\U00002702-\\U000027B0\"\n",
        "        u\"\\U000024C2-\\U0001F251\"\n",
        "        \"]+\",\n",
        "        flags=re.UNICODE,\n",
        "    )\n",
        "    return emoji_pattern.sub(r\"\", string)\n",
        "\n",
        "#all text to lowercase and remove unwanted signs \n",
        "def remove_unwanted_chars(text):\n",
        "    allowed_chars = \"\"\" 0123456789abcdefghijklmnopqrstuvwxyz;,!\"\".?\"\"\"\n",
        "    clean_text = text.lower()\n",
        "    for c in clean_text:\n",
        "        if allowed_chars.find(c) == -1:\n",
        "            clean_text = clean_text.replace(c, \"\")\n",
        "        else:\n",
        "            pass\n",
        "    return clean_text\n",
        "\n",
        "#getting correct words\n",
        "def make_sentences_correct(text):\n",
        "    val = re.split('[!.,?;\\s]+', text)\n",
        "    text = \" \".join(val)\n",
        "    return text             \n",
        "\n",
        "\n",
        "#removing whitespaces from start and end\n",
        "def remove_white_spaces(text):\n",
        "    text = text.strip() \n",
        "    return text      "
      ],
      "execution_count": 102,
      "outputs": []
    },
    {
      "cell_type": "code",
      "metadata": {
        "id": "8VwPS0x2oS5P",
        "colab": {
          "base_uri": "https://localhost:8080/",
          "height": 196
        },
        "outputId": "bd955dd3-0697-4211-b171-a331f0a18997"
      },
      "source": [
        "dataset[\"review\"] = dataset.review.map(lambda x: remove_URL(x))\n",
        "dataset[\"review\"] = dataset.review.map(lambda x: remove_html(x))\n",
        "dataset[\"review\"] = dataset.review.map(lambda x: remove_emoji(x))\n",
        "dataset[\"review\"] = dataset.review.map(lambda x: remove_unwanted_chars(x))\n",
        "dataset[\"review\"] = dataset.review.map(lambda x: make_sentences_correct(x))\n",
        "dataset[\"review\"] = dataset.review.map(lambda x: remove_white_spaces(x))\n",
        "dataset.reset_index(drop=True, inplace=True)\n",
        "dataset.head()"
      ],
      "execution_count": 103,
      "outputs": [
        {
          "output_type": "execute_result",
          "data": {
            "text/html": [
              "<div>\n",
              "<style scoped>\n",
              "    .dataframe tbody tr th:only-of-type {\n",
              "        vertical-align: middle;\n",
              "    }\n",
              "\n",
              "    .dataframe tbody tr th {\n",
              "        vertical-align: top;\n",
              "    }\n",
              "\n",
              "    .dataframe thead th {\n",
              "        text-align: right;\n",
              "    }\n",
              "</style>\n",
              "<table border=\"1\" class=\"dataframe\">\n",
              "  <thead>\n",
              "    <tr style=\"text-align: right;\">\n",
              "      <th></th>\n",
              "      <th>review</th>\n",
              "      <th>sentiment</th>\n",
              "    </tr>\n",
              "  </thead>\n",
              "  <tbody>\n",
              "    <tr>\n",
              "      <th>0</th>\n",
              "      <td>one of the other reviewers has mentioned that ...</td>\n",
              "      <td>positive</td>\n",
              "    </tr>\n",
              "    <tr>\n",
              "      <th>1</th>\n",
              "      <td>a wonderful little production the filming tech...</td>\n",
              "      <td>positive</td>\n",
              "    </tr>\n",
              "    <tr>\n",
              "      <th>2</th>\n",
              "      <td>i thought this was a wonderful way to spend ti...</td>\n",
              "      <td>positive</td>\n",
              "    </tr>\n",
              "    <tr>\n",
              "      <th>3</th>\n",
              "      <td>basically theres a family where a little boy j...</td>\n",
              "      <td>negative</td>\n",
              "    </tr>\n",
              "    <tr>\n",
              "      <th>4</th>\n",
              "      <td>petter matteis \"love in the time of money\" is ...</td>\n",
              "      <td>positive</td>\n",
              "    </tr>\n",
              "  </tbody>\n",
              "</table>\n",
              "</div>"
            ],
            "text/plain": [
              "                                              review sentiment\n",
              "0  one of the other reviewers has mentioned that ...  positive\n",
              "1  a wonderful little production the filming tech...  positive\n",
              "2  i thought this was a wonderful way to spend ti...  positive\n",
              "3  basically theres a family where a little boy j...  negative\n",
              "4  petter matteis \"love in the time of money\" is ...  positive"
            ]
          },
          "metadata": {
            "tags": []
          },
          "execution_count": 103
        }
      ]
    },
    {
      "cell_type": "code",
      "metadata": {
        "colab": {
          "base_uri": "https://localhost:8080/"
        },
        "id": "WqlrP6CLF6HJ",
        "outputId": "275b49c9-e65b-4650-8b89-065dd466723d"
      },
      "source": [
        "dataset.shape"
      ],
      "execution_count": 104,
      "outputs": [
        {
          "output_type": "execute_result",
          "data": {
            "text/plain": [
              "(50000, 2)"
            ]
          },
          "metadata": {
            "tags": []
          },
          "execution_count": 104
        }
      ]
    },
    {
      "cell_type": "code",
      "metadata": {
        "colab": {
          "base_uri": "https://localhost:8080/",
          "height": 348
        },
        "id": "v9RPYM1IGQmp",
        "outputId": "f202c252-3a8d-4ed8-fcb2-67917e10afe9"
      },
      "source": [
        "length = []\n",
        "for item in list(dataset[\"review\"]):\n",
        "  length.append(len(item.split(\" \")))\n",
        "plt.hist(length)"
      ],
      "execution_count": 105,
      "outputs": [
        {
          "output_type": "execute_result",
          "data": {
            "text/plain": [
              "(array([3.5450e+04, 1.0644e+04, 2.7400e+03, 1.0150e+03, 1.3100e+02,\n",
              "        9.0000e+00, 5.0000e+00, 2.0000e+00, 2.0000e+00, 2.0000e+00]),\n",
              " array([   6. ,  250.5,  495. ,  739.5,  984. , 1228.5, 1473. , 1717.5,\n",
              "        1962. , 2206.5, 2451. ]),\n",
              " <a list of 10 Patch objects>)"
            ]
          },
          "metadata": {
            "tags": []
          },
          "execution_count": 105
        },
        {
          "output_type": "display_data",
          "data": {
            "image/png": "[encoded data removed]",
            "text/plain": [
              "<Figure size 432x288 with 1 Axes>"
            ]
          },
          "metadata": {
            "tags": [],
            "needs_background": "light"
          }
        }
      ]
    },
    {
      "cell_type": "code",
      "metadata": {
        "colab": {
          "base_uri": "https://localhost:8080/"
        },
        "id": "omB-NDoJIksU",
        "outputId": "0cf1d7cd-3e38-4c47-b4e7-19175e8931a0"
      },
      "source": [
        "print(\"Mean length:\", np.mean(length))\n",
        "print(\"Minimum length:\", np.min(length))\n",
        "print(\"Maximum length:\", np.max(length))"
      ],
      "execution_count": 106,
      "outputs": [
        {
          "output_type": "stream",
          "text": [
            "Mean length: 228.75948\n",
            "Minimum length: 6\n",
            "Maximum length: 2451\n"
          ],
          "name": "stdout"
        }
      ]
    },
    {
      "cell_type": "markdown",
      "metadata": {
        "id": "GRsd4oc2TbB3"
      },
      "source": [
        "**Tokenization and Padding**"
      ]
    },
    {
      "cell_type": "code",
      "metadata": {
        "id": "tk88p-0EJQQW"
      },
      "source": [
        "MAX_LEN = 300\n",
        "TEXT = data.Field(tokenize='spacy', tokenizer_language = 'en_core_web_sm', fix_length=MAX_LEN, include_lengths = True)\n",
        "LABEL = data.LabelField(dtype=torch.float)\n",
        "dataset.to_csv('dataset.csv',index=False)\n",
        "fields = [('text',TEXT),('label',LABEL)]"
      ],
      "execution_count": 107,
      "outputs": []
    },
    {
      "cell_type": "code",
      "metadata": {
        "id": "_5vFAlKbfCSO"
      },
      "source": [
        "dataset = data.TabularDataset.splits(path='', train = 'dataset.csv', format = 'csv', fields = fields, skip_header = True)\n",
        "dataset = dataset[0]"
      ],
      "execution_count": 108,
      "outputs": []
    },
    {
      "cell_type": "markdown",
      "metadata": {
        "id": "DUrLhOu9TzRy"
      },
      "source": [
        "**Splitting the Dataset**"
      ]
    },
    {
      "cell_type": "code",
      "metadata": {
        "id": "7rZ5R14P6SCS"
      },
      "source": [
        "import random\n",
        "import io\n",
        "train, test = dataset.split(split_ratio=0.75, random_state=random.seed(5))"
      ],
      "execution_count": 109,
      "outputs": []
    },
    {
      "cell_type": "code",
      "metadata": {
        "colab": {
          "base_uri": "https://localhost:8080/"
        },
        "id": "MNKcVzUj9E4r",
        "outputId": "f09b2eb7-9b8a-4053-d033-46c1b21cfa68"
      },
      "source": [
        "print(len(train), len(test))"
      ],
      "execution_count": 110,
      "outputs": [
        {
          "output_type": "stream",
          "text": [
            "37500 12500\n"
          ],
          "name": "stdout"
        }
      ]
    },
    {
      "cell_type": "code",
      "metadata": {
        "id": "RpnRrAnj92dw"
      },
      "source": [
        "TEXT.build_vocab(train, max_size=25000, vectors = \"glove.6B.100d\", unk_init=torch.Tensor.normal_)\n",
        "LABEL.build_vocab(train)\n",
        "LABEL.vocab.stoi['positive'] = 1\n",
        "LABEL.vocab.stoi['negative'] = 0"
      ],
      "execution_count": 111,
      "outputs": []
    },
    {
      "cell_type": "markdown",
      "metadata": {
        "id": "VOL0sub22Hok"
      },
      "source": [
        "**Batching and Loading**"
      ]
    },
    {
      "cell_type": "code",
      "metadata": {
        "id": "pcwJGSzxLdev"
      },
      "source": [
        "BATCH_SIZE = 50\n",
        "device = 'cpu'  # device configuration"
      ],
      "execution_count": 112,
      "outputs": []
    },
    {
      "cell_type": "code",
      "metadata": {
        "id": "x53g7JRB_php"
      },
      "source": [
        "train_iterator, _, test_iterator = data.BucketIterator.splits((train, _, test), batch_size = BATCH_SIZE, sort_key=lambda x:len(x.text), \n",
        "                                                            sort_within_batch=True, device = device)"
      ],
      "execution_count": 113,
      "outputs": []
    },
    {
      "cell_type": "markdown",
      "metadata": {
        "id": "fogJ0jmS-i5L"
      },
      "source": [
        "**Building the LSTM Model**"
      ]
    },
    {
      "cell_type": "code",
      "metadata": {
        "id": "G6H2ntXMMR6_"
      },
      "source": [
        "INPUT_DIM = len(TEXT.vocab)\n",
        "EMBEDDING_DIM = 100\n",
        "HIDDEN_DIM = 256\n",
        "OUTPUT_DIM = 1\n",
        "N_LAYERS = 2\n",
        "BIDIRECTIONAL = True\n",
        "DROPOUT = 0.5\n",
        "PAD_IDX = TEXT.vocab.stoi[TEXT.pad_token]"
      ],
      "execution_count": 114,
      "outputs": []
    },
    {
      "cell_type": "code",
      "metadata": {
        "id": "nMxcf_R0A-rQ"
      },
      "source": [
        "class LSTM(nn.Module):\n",
        "    def __init__(self, vocab_size, embedding_dim, hidden_dim, output_dim, n_layers, bidirectional, dropout, pad_idx):\n",
        "        super().__init__()\n",
        "        self.embedding = nn.Embedding(vocab_size, embedding_dim, padding_idx = pad_idx)\n",
        "        self.rnn = nn.LSTM(embedding_dim, \n",
        "                           hidden_dim, \n",
        "                           num_layers=n_layers, \n",
        "                           bidirectional=bidirectional, \n",
        "                           dropout=dropout)\n",
        "        self.fc = nn.Linear(hidden_dim * 2, output_dim)\n",
        "        self.dropout = nn.Dropout(dropout)\n",
        "        \n",
        "    def forward(self, text, text_lengths):\n",
        "        embedded = self.dropout(self.embedding(text))\n",
        "        packed_embedded = nn.utils.rnn.pack_padded_sequence(embedded.to(device), text_lengths.to(device))\n",
        "        packed_output, (hidden, cell) = self.rnn(packed_embedded.to(device))\n",
        "        output, output_lengths = nn.utils.rnn.pad_packed_sequence(packed_output.to(device))\n",
        "        hidden = self.dropout(torch.cat((hidden[-2,:,:], hidden[-1,:,:]), dim = 1)) \n",
        "        return self.fc(hidden)\n",
        "\n",
        "model = LSTM(INPUT_DIM, EMBEDDING_DIM, HIDDEN_DIM, OUTPUT_DIM, N_LAYERS, BIDIRECTIONAL, DROPOUT, PAD_IDX)"
      ],
      "execution_count": 115,
      "outputs": []
    },
    {
      "cell_type": "code",
      "metadata": {
        "colab": {
          "base_uri": "https://localhost:8080/"
        },
        "id": "V1wKqDO2Mnld",
        "outputId": "9a6340ab-5a1e-4770-c78a-d2be8841cc7c"
      },
      "source": [
        "model"
      ],
      "execution_count": 116,
      "outputs": [
        {
          "output_type": "execute_result",
          "data": {
            "text/plain": [
              "LSTM(\n",
              "  (embedding): Embedding(25002, 100, padding_idx=1)\n",
              "  (rnn): LSTM(100, 256, num_layers=2, dropout=0.5, bidirectional=True)\n",
              "  (fc): Linear(in_features=512, out_features=1, bias=True)\n",
              "  (dropout): Dropout(p=0.5, inplace=False)\n",
              ")"
            ]
          },
          "metadata": {
            "tags": []
          },
          "execution_count": 116
        }
      ]
    },
    {
      "cell_type": "code",
      "metadata": {
        "id": "Xvzymou0osjk"
      },
      "source": [
        "optimizer = optim.Adam(model.parameters(), lr = 0.01)\n",
        "criterion = nn.BCEWithLogitsLoss()\n",
        "model = model.to(device)\n",
        "criterion = criterion.to(device)\n",
        "\n",
        "def binary_accuracy(preds, y):\n",
        "    rounded_preds = torch.round(torch.sigmoid(preds))\n",
        "    correct = (rounded_preds == y).float()\n",
        "    acc = correct.sum() / len(correct)\n",
        "    return acc"
      ],
      "execution_count": 117,
      "outputs": []
    },
    {
      "cell_type": "markdown",
      "metadata": {
        "id": "8Fc9QcOe-vwD"
      },
      "source": [
        "**Training the Model**"
      ]
    },
    {
      "cell_type": "code",
      "metadata": {
        "id": "tM_UBiDvuLNX"
      },
      "source": [
        "def train(model, iterator, optimizer, criterion):\n",
        "    loss = acc = 0\n",
        "    model.train()\n",
        "    for batch in iterator:\n",
        "        optimizer.zero_grad()\n",
        "        text, text_lengths = batch.text\n",
        "        predictions = model(text, text_lengths.to(device)).squeeze(1)\n",
        "        loss = criterion(predictions, batch.label)\n",
        "        acc = binary_accuracy(predictions, batch.label)\n",
        "        loss.backward()\n",
        "        optimizer.step()\n",
        "        loss += loss.item()\n",
        "        acc += acc.item()\n",
        "        \n",
        "    return loss / len(iterator), acc / len(iterator)"
      ],
      "execution_count": 118,
      "outputs": []
    },
    {
      "cell_type": "code",
      "metadata": {
        "id": "ZBb8kZ13tQ-k"
      },
      "source": [
        "EPOCHS = 5\n",
        "loss_lis = []\n",
        "acc_lis = []\n",
        "for epoch in range(EPOCHS):\n",
        "  train_loss, train_acc = train(model.to(device), train_iterator, optimizer, criterion.to(device))\n",
        "  loss_lis.append(train_loss)\n",
        "  acc_lis.append(train_acc)\n",
        "  print(\"Epoch:\", epoch, \"Training loss:\", train_loss, \"Training accuracy:\", 100*train_acc)"
      ],
      "execution_count": null,
      "outputs": []
    },
    {
      "cell_type": "markdown",
      "metadata": {
        "id": "O7Ta83noU4ez"
      },
      "source": [
        "**Accuracy Plot**"
      ]
    },
    {
      "cell_type": "code",
      "metadata": {
        "id": "l3Q8ghRsR2hf"
      },
      "source": [
        "plt.plot(acc_lis)\n",
        "plt.xlabel(\"epochs\")\n",
        "plt.ylabel(\"accuracy\")\n",
        "plt.title(\"Accuracy plot\")"
      ],
      "execution_count": null,
      "outputs": []
    },
    {
      "cell_type": "markdown",
      "metadata": {
        "id": "9hamDREKV7Ss"
      },
      "source": [
        "**Loss Plot**"
      ]
    },
    {
      "cell_type": "code",
      "metadata": {
        "id": "oBsH_m8iV7St"
      },
      "source": [
        "plt.plot(loss_lis)\n",
        "plt.xlabel(\"epochs\")\n",
        "plt.ylabel(\"loss\")\n",
        "plt.title(\"Loss plot\")"
      ],
      "execution_count": null,
      "outputs": []
    },
    {
      "cell_type": "code",
      "metadata": {
        "id": "y_sRN16PZXMJ"
      },
      "source": [
        ""
      ],
      "execution_count": null,
      "outputs": []
    }
  ]
}